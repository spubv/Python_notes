{
  "nbformat": 4,
  "nbformat_minor": 0,
  "metadata": {
    "colab": {
      "provenance": [],
      "toc_visible": true,
      "authorship_tag": "ABX9TyO7uS2HHNqkUkbPheikn1hY",
      "include_colab_link": true
    },
    "kernelspec": {
      "name": "python3",
      "display_name": "Python 3"
    },
    "language_info": {
      "name": "python"
    }
  },
  "cells": [
    {
      "cell_type": "markdown",
      "metadata": {
        "id": "view-in-github",
        "colab_type": "text"
      },
      "source": [
        "<a href=\"https://colab.research.google.com/github/spubv/Python_notes/blob/main/python_course.ipynb\" target=\"_parent\"><img src=\"https://colab.research.google.com/assets/colab-badge.svg\" alt=\"Open In Colab\"/></a>"
      ]
    },
    {
      "cell_type": "markdown",
      "source": [
        "This note book helps to understand python with all the examples and the tutorials ."
      ],
      "metadata": {
        "id": "orNgPOkmv9aW"
      }
    },
    {
      "cell_type": "markdown",
      "source": [
        "# New Section"
      ],
      "metadata": {
        "id": "e4UJC95RwO_p"
      }
    },
    {
      "cell_type": "markdown",
      "source": [
        "33"
      ],
      "metadata": {
        "id": "k308taclrOZR"
      }
    },
    {
      "cell_type": "code",
      "execution_count": null,
      "metadata": {
        "colab": {
          "base_uri": "https://localhost:8080/"
        },
        "id": "aawG6S9Xp4gd",
        "outputId": "216cf66d-dcf0-4d51-e470-085d218e5584"
      },
      "outputs": [
        {
          "output_type": "stream",
          "name": "stdout",
          "text": [
            "Division by zero occurred.\n",
            "Cannot divide by zero!\n",
            "File not found!\n",
            "Closing the file\n"
          ]
        }
      ],
      "source": [
        "# prompt: different types of errors in python\n",
        "\n",
        "# Common Python Errors\n",
        "\n",
        "# 1. SyntaxError: Incorrect code structure.\n",
        "# Example: Missing colon at the end of an if statement\n",
        "# if x > 5\n",
        "#     print(\"x is greater than 5\")  # SyntaxError: invalid syntax\n",
        "\n",
        "# 2. NameError: Using a variable that is not defined.\n",
        "# Example:\n",
        "# print(y)  # NameError: name 'y' is not defined if 'y' is not defined\n",
        "\n",
        "# 3. TypeError: Performing an operation on an incompatible data type.\n",
        "# Example:\n",
        "# x = 5 + \"10\"  # TypeError: unsupported operand type(s) for +: 'int' and 'str'\n",
        "\n",
        "# 4. ValueError: Function receives an argument of correct type but improper value.\n",
        "# Example:\n",
        "# int(\"hello\") #ValueError: invalid literal for int() with base 10: 'hello'\n",
        "\n",
        "# 5. IndexError: Trying to access an index that is out of range.\n",
        "# Example:\n",
        "# my_list = [1, 2, 3]\n",
        "# print(my_list[3]) #IndexError: list index out of range\n",
        "\n",
        "# 6. KeyError: Trying to access a key that does not exist in a dictionary.\n",
        "# Example:\n",
        "# my_dict = {\"a\": 1, \"b\": 2}\n",
        "# print(my_dict[\"c\"]) #KeyError: 'c'\n",
        "\n",
        "\n",
        "# 7. AttributeError: Trying to access an attribute or method that does not exist.\n",
        "# Example:\n",
        "# x = 5\n",
        "# print(x.append(6)) # AttributeError: 'int' object has no attribute 'append'\n",
        "\n",
        "\n",
        "# 8. ZeroDivisionError: Dividing by zero.\n",
        "# Example:\n",
        "# x = 10 / 0 #ZeroDivisionError: division by zero\n",
        "\n",
        "\n",
        "# 9. FileNotFoundError: Trying to open a file that does not exist.\n",
        "# Example:\n",
        "# with open(\"non_existent_file.txt\", \"r\") as f:  # FileNotFoundError: [Errno 2] No such file or directory: 'non_existent_file.txt'\n",
        "#    contents = f.read()\n",
        "\n",
        "\n",
        "# 10. ImportError: Trying to import a module that does not exist or cannot be found.\n",
        "# Example:\n",
        "# import non_existent_module #ImportError: No module named 'non_existent_module'\n",
        "\n",
        "# 11. ModuleNotFoundError: A more specific ImportError for Python 3.6+.\n",
        "# Example:\n",
        "# import non_existent_module #ModuleNotFoundError: No module named 'non_existent_module'\n",
        "\n",
        "\n",
        "# Handling Exceptions with try-except blocks.\n",
        "try:\n",
        "  # Code that might raise an exception.\n",
        "  result = 10 / 0\n",
        "except ZeroDivisionError:\n",
        "  print(\"Division by zero occurred.\")\n",
        "except Exception as e: # Catching other exceptions\n",
        "  print(f\"An unexpected error happened: {e}\")\n",
        "\n",
        "# You can have multiple except blocks to handle different types of exceptions\n",
        "try:\n",
        "    #Some code here that could raise an exception.\n",
        "    result = 10 / 0\n",
        "except ZeroDivisionError:\n",
        "    print(\"Cannot divide by zero!\")\n",
        "except TypeError:\n",
        "    print(\"Type error!\")\n",
        "except Exception as e:\n",
        "    print(\"Other exceptions: \", e)\n",
        "\n",
        "# Finally block is always executed, regardless of whether an exception occurred or not.\n",
        "try:\n",
        "    f = open(\"myfile.txt\")\n",
        "    # perform file operations\n",
        "except FileNotFoundError:\n",
        "    print(\"File not found!\")\n",
        "finally:\n",
        "    print(\"Closing the file\")\n",
        "    if 'f' in locals():\n",
        "      f.close() # Close even if an error occurred\n"
      ]
    },
    {
      "cell_type": "markdown",
      "source": [],
      "metadata": {
        "id": "uGcraGzFq5Qn"
      }
    },
    {
      "cell_type": "code",
      "source": [
        "import this"
      ],
      "metadata": {
        "colab": {
          "base_uri": "https://localhost:8080/"
        },
        "id": "Le6ww1J3q43Y",
        "outputId": "98037747-5894-4adf-efe3-89f3dfe86473"
      },
      "execution_count": 1,
      "outputs": [
        {
          "output_type": "stream",
          "name": "stdout",
          "text": [
            "The Zen of Python, by Tim Peters\n",
            "\n",
            "Beautiful is better than ugly.\n",
            "Explicit is better than implicit.\n",
            "Simple is better than complex.\n",
            "Complex is better than complicated.\n",
            "Flat is better than nested.\n",
            "Sparse is better than dense.\n",
            "Readability counts.\n",
            "Special cases aren't special enough to break the rules.\n",
            "Although practicality beats purity.\n",
            "Errors should never pass silently.\n",
            "Unless explicitly silenced.\n",
            "In the face of ambiguity, refuse the temptation to guess.\n",
            "There should be one-- and preferably only one --obvious way to do it.\n",
            "Although that way may not be obvious at first unless you're Dutch.\n",
            "Now is better than never.\n",
            "Although never is often better than *right* now.\n",
            "If the implementation is hard to explain, it's a bad idea.\n",
            "If the implementation is easy to explain, it may be a good idea.\n",
            "Namespaces are one honking great idea -- let's do more of those!\n"
          ]
        }
      ]
    },
    {
      "cell_type": "code",
      "source": [],
      "metadata": {
        "id": "-in0SaHxs6Rg"
      },
      "execution_count": null,
      "outputs": []
    },
    {
      "cell_type": "markdown",
      "source": [],
      "metadata": {
        "id": "sq1_la3Jv8YC"
      }
    }
  ]
}